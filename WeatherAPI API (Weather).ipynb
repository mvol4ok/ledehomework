{
 "cells": [
  {
   "cell_type": "markdown",
   "metadata": {},
   "source": [
    "# WeatherAPI (Weather)\n",
    "\n",
    "Answer the following questions using [WeatherAPI](http://www.weatherapi.com/). I've added three cells for most questions but you're free to use more or less! Hold `Shift` and hit `Enter` to run a cell, and use the `+` on the top left to add a new cell to a notebook.\n",
    "\n",
    "Be sure to take advantage of both the documentation and the API Explorer!\n",
    "\n",
    "## 0) Import any libraries you might need\n",
    "\n",
    "- *Tip: We're going to be downloading things from the internet, so we probably need `requests`.*\n",
    "- *Tip: Remember you only need to import requests once!*"
   ]
  },
  {
   "cell_type": "code",
   "execution_count": 6,
   "metadata": {
    "collapsed": true
   },
   "outputs": [],
   "source": [
    "import requests"
   ]
  },
  {
   "cell_type": "code",
   "execution_count": null,
   "metadata": {},
   "outputs": [],
   "source": []
  },
  {
   "cell_type": "code",
   "execution_count": null,
   "metadata": {},
   "outputs": [],
   "source": []
  },
  {
   "cell_type": "markdown",
   "metadata": {
    "collapsed": true
   },
   "source": [
    "## 1) Make a request to the Weather API for where you were born (or lived, or want to visit!).\n",
    "\n",
    "- *Tip: The URL we used in class was for a place near San Francisco. What was the format of the endpoint that made this happen?*\n",
    "- *Tip: Save the URL as a separate variable, and be sure to not have `[` and `]` inside.*\n",
    "- *Tip: How is north vs. south and east vs. west latitude/longitude represented? Is it the normal North/South/East/West?*\n",
    "- *Tip: You know it's JSON, but Python doesn't! Make sure you aren't trying to deal with plain text.* \n",
    "- *Tip: Once you've imported the JSON into a variable, check the timezone's name to make sure it seems like it got the right part of the world!*"
   ]
  },
  {
   "cell_type": "code",
   "execution_count": 11,
   "metadata": {
    "collapsed": true
   },
   "outputs": [],
   "source": [
    "url = \"http://api.weatherapi.com/v1/current.json?key=45d5c414258a4e0e84222902221606&q=Lviv\"\n",
    "response = requests.get(url)\n",
    "data = response.json()"
   ]
  },
  {
   "cell_type": "code",
   "execution_count": null,
   "metadata": {
    "collapsed": true
   },
   "outputs": [],
   "source": []
  },
  {
   "cell_type": "code",
   "execution_count": null,
   "metadata": {
    "collapsed": true
   },
   "outputs": [],
   "source": []
  },
  {
   "cell_type": "markdown",
   "metadata": {},
   "source": [
    "## 2) What's the current wind speed? How much warmer does it feel than it actually is?\n",
    "\n",
    "- *Tip: You can do this by browsing through the dictionaries, but it might be easier to read the documentation*\n",
    "- *Tip: For the second half: it **is** one temperature, and it **feels** a different temperature. Calculate the difference.*"
   ]
  },
  {
   "cell_type": "code",
   "execution_count": 13,
   "metadata": {},
   "outputs": [
    {
     "name": "stdout",
     "output_type": "stream",
     "text": [
      "9.4 miles per hour\n"
     ]
    }
   ],
   "source": [
    "wind_mph = data['current']['wind_mph']\n",
    "print(wind_mph, \"miles per hour\")"
   ]
  },
  {
   "cell_type": "code",
   "execution_count": 19,
   "metadata": {},
   "outputs": [
    {
     "name": "stdout",
     "output_type": "stream",
     "text": [
      "It feels,2.0,degrees celcius warmer than it actually is\n"
     ]
    }
   ],
   "source": [
    "temp_c = data['current']['temp_c']\n",
    "\n",
    "feelslike_c = data['current']['feelslike_c']\n",
    "\n",
    "difference= feelslike_c - temp_c\n",
    "\n",
    "print( f'It feels,{difference},degrees celcius warmer than it actually is')\n"
   ]
  },
  {
   "cell_type": "code",
   "execution_count": null,
   "metadata": {},
   "outputs": [],
   "source": []
  },
  {
   "cell_type": "markdown",
   "metadata": {},
   "source": [
    "## 3) What is the API endpoint for moon-related information? For the place you decided on above, how much of the moon will be visible tomorrow?\n",
    "\n",
    "- *Tip: Check the documentation!*\n",
    "- *Tip: If you aren't sure what something means, ask in Slack*"
   ]
  },
  {
   "cell_type": "code",
   "execution_count": 39,
   "metadata": {},
   "outputs": [
    {
     "name": "stdout",
     "output_type": "stream",
     "text": [
      "dict_keys(['location', 'current', 'forecast'])\n"
     ]
    }
   ],
   "source": [
    "moon_url = \"https://api.weatherapi.com/v1/forecast.json?key=45d5c414258a4e0e84222902221606&q=Lviv&days=2\"\n",
    "moon_response = requests.get(moon_url)\n",
    "moon_data = moon_response.json()\n",
    "\n",
    "print(moon_data.keys())"
   ]
  },
  {
   "cell_type": "code",
   "execution_count": 56,
   "metadata": {},
   "outputs": [
    {
     "name": "stdout",
     "output_type": "stream",
     "text": [
      "dict_keys(['date', 'date_epoch', 'day', 'astro', 'hour'])\n",
      "{'sunrise': '05:16 AM', 'sunset': '09:37 PM', 'moonrise': '01:49 AM', 'moonset': '01:36 PM', 'moon_phase': 'Last Quarter', 'moon_illumination': '40'}\n",
      "40\n",
      "The moon illumination for tomorrow will be 40\n"
     ]
    }
   ],
   "source": [
    "#print(moon_data['forecast']['forecastday'][1])\n",
    "\n",
    "next_day = moon_data['forecast']['forecastday'][1]\n",
    "next_day_illumination= next_day['astro']['moon_illumination']\n",
    "print(next_day.keys())\n",
    "\n",
    "print(next_day['astro'])\n",
    "\n",
    "print(next_day['astro']['moon_illumination'])\n",
    "\n",
    "print(f'The moon illumination for tomorrow will be {next_day_illumination}')\n",
    "\n"
   ]
  },
  {
   "cell_type": "markdown",
   "metadata": {},
   "source": [
    "## 4) What's the difference between the high and low temperatures for today?\n",
    "\n",
    "- *Tip: When you requested moon data, you probably overwrote your variables! If so, you'll need to make a new request.*"
   ]
  },
  {
   "cell_type": "code",
   "execution_count": 72,
   "metadata": {
    "collapsed": true
   },
   "outputs": [
    {
     "name": "stdout",
     "output_type": "stream",
     "text": [
      "Difference in temperature today was 15.8 celcius\n"
     ]
    }
   ],
   "source": [
    "temp_url = \"https://api.weatherapi.com/v1/forecast.json?key=45d5c414258a4e0e84222902221606&q=Lviv&days=1\"\n",
    "temp_response = requests.get(temp_url)\n",
    "temp_data = temp_response.json()\n",
    "\n",
    "max_temp = temp_data[\"forecast\"]['forecastday'][0]['day']['maxtemp_c']\n",
    "min_temp = temp_data[\"forecast\"]['forecastday'][0]['day']['mintemp_c']\n",
    "\n",
    "print(f'Difference in temperature today was {max_temp - min_temp} celcius')"
   ]
  },
  {
   "cell_type": "code",
   "execution_count": null,
   "metadata": {
    "collapsed": true
   },
   "outputs": [],
   "source": []
  },
  {
   "cell_type": "markdown",
   "metadata": {
    "collapsed": true
   },
   "source": [
    "## 4.5) How can you avoid the \"oh no I don't have the data any more because I made another request\" problem in the future?\n",
    "\n",
    "What variable(s) do you have to rename, and what would you rename them?"
   ]
  },
  {
   "cell_type": "code",
   "execution_count": null,
   "metadata": {},
   "outputs": [],
   "source": [
    "#rename the URL variable/ response variable and data variable!"
   ]
  },
  {
   "cell_type": "markdown",
   "metadata": {},
   "source": [
    "## 5) Go through the daily forecasts, printing out the next three days' worth of predictions.\n",
    "\n",
    "I'd like to know the **high temperature** for each day, and whether it's **hot, warm, or cold** (based on what temperatures you think are hot, warm or cold).\n",
    "\n",
    "- *Tip: You'll need to use an `if` statement to say whether it is hot, warm or cold.*"
   ]
  },
  {
   "cell_type": "code",
   "execution_count": 73,
   "metadata": {},
   "outputs": [],
   "source": [
    "forecast_url = 'https://api.weatherapi.com/v1/forecast.json?key=45d5c414258a4e0e84222902221606&q=Lviv&days=3'\n",
    "forecast_response = requests.get(forecast_url)\n",
    "forecast_data = forecast_response.json()"
   ]
  },
  {
   "cell_type": "code",
   "execution_count": 91,
   "metadata": {},
   "outputs": [
    {
     "name": "stdout",
     "output_type": "stream",
     "text": [
      "32.6\n",
      "It is hot!\n",
      "20.4\n",
      "It is warm!\n",
      "21.6\n",
      "It is warm!\n"
     ]
    }
   ],
   "source": [
    "for day in forecast_data[\"forecast\"][\"forecastday\"]:\n",
    "    print(day['day']['maxtemp_c'])\n",
    "    \n",
    "\n",
    "    if day['day']['maxtemp_c'] >= 30:\n",
    "        print(\"It is hot!\")\n",
    "    elif day['day']['maxtemp_c'] <= 18:\n",
    "        print(\"It is cold!\")\n",
    "    else:\n",
    "        print(\"It is warm!\")"
   ]
  },
  {
   "cell_type": "markdown",
   "metadata": {},
   "source": [
    "## 5b) The question above used to be an entire week, but not any more. Try to re-use the code above to print out seven days.\n",
    "\n",
    "What happens? Can you figure out why it doesn't work?\n",
    "\n",
    "* *Tip: it has to do with the reason you're using an API key - maybe take a look at the \"Air Quality Data\" introduction for a hint? If you can't figure it out right now, no worries.*"
   ]
  },
  {
   "cell_type": "code",
   "execution_count": null,
   "metadata": {},
   "outputs": [],
   "source": [
    "#Can't access unless you pay money for subscription "
   ]
  },
  {
   "cell_type": "markdown",
   "metadata": {},
   "source": [
    "## 6) What will be the hottest day in the next three days? What is the high temperature on that day?"
   ]
  },
  {
   "cell_type": "code",
   "execution_count": 105,
   "metadata": {},
   "outputs": [
    {
     "name": "stdout",
     "output_type": "stream",
     "text": [
      "Im looking at: 32.6\n",
      "Biggest one I remember is 0\n",
      "--------------\n",
      "Im looking at: 20.4\n",
      "Biggest one I remember is 32.6\n",
      "--------------\n",
      "Im looking at: 21.6\n",
      "Biggest one I remember is 32.6\n",
      "--------------\n",
      "32.6\n",
      "2022-06-20\n"
     ]
    }
   ],
   "source": [
    "\n",
    "biggest_number_of_them_all = 0\n",
    "day_with_hottest_temp = ''\n",
    "\n",
    "for item_in_forecast in forecast_data[\"forecast\"][\"forecastday\"]:\n",
    "\n",
    "    print(f\"Im looking at: {item_in_forecast['day']['maxtemp_c']}\")\n",
    "    print(f\"Biggest one I remember is {biggest_number_of_them_all}\")\n",
    "    print('--------------')\n",
    "\n",
    "    if item_in_forecast['day']['maxtemp_c'] > biggest_number_of_them_all:\n",
    "        biggest_number_of_them_all = item_in_forecast['day']['maxtemp_c']\n",
    "        day_with_hottest_temp = item_in_forecast['date']\n",
    "    \n",
    "\n",
    "print(biggest_number_of_them_all)\n",
    "print(day_with_hottest_temp)\n",
    "\n"
   ]
  },
  {
   "cell_type": "markdown",
   "metadata": {},
   "source": [
    "## 7) What's the weather looking like for the next 24+ hours in Miami, Florida?\n",
    "\n",
    "I'd like to know the temperature for every hour, and if it's going to have cloud cover of more than 50% say \"{temperature} and cloudy\" instead of just the temperature. \n",
    "\n",
    "- *Tip: You'll only need one day of forecast*"
   ]
  },
  {
   "cell_type": "code",
   "execution_count": 119,
   "metadata": {
    "collapsed": true
   },
   "outputs": [
    {
     "name": "stdout",
     "output_type": "stream",
     "text": [
      "The temperature is 29.0\n",
      "The temperature is 29.0 and cloudy\n",
      "The temperature is 28.9\n",
      "The temperature is 28.8 and cloudy\n",
      "The temperature is 28.8\n",
      "The temperature is 28.4 and cloudy\n",
      "The temperature is 28.3\n",
      "The temperature is 28.3 and cloudy\n",
      "The temperature is 28.5\n",
      "The temperature is 28.7 and cloudy\n",
      "The temperature is 29.2\n",
      "The temperature is 32.4 and cloudy\n",
      "The temperature is 32.8 and cloudy\n",
      "The temperature is 33.0 and cloudy\n",
      "The temperature is 32.9 and cloudy\n",
      "The temperature is 30.6\n",
      "The temperature is 30.5\n",
      "The temperature is 30.3 and cloudy\n",
      "The temperature is 30.0\n",
      "The temperature is 29.7\n",
      "The temperature is 29.5\n",
      "The temperature is 29.2\n",
      "The temperature is 29.1\n",
      "The temperature is 29.1 and cloudy\n"
     ]
    }
   ],
   "source": [
    "miami_url = \"https://api.weatherapi.com/v1/forecast.json?key=45d5c414258a4e0e84222902221606&q=Miami&days=1\"\n",
    "miami_response = requests.get(miami_url)\n",
    "miami_data = miami_response.json()\n",
    "\n",
    "for time in miami_data['forecast']['forecastday'][0]['hour']:\n",
    "    if time['cloud'] > 50:\n",
    "        print(f\"The temperature is {time['temp_c']} and cloudy\")\n",
    "    else:\n",
    "        print(f\"The temperature is {time['temp_c']}\" )\n"
   ]
  },
  {
   "cell_type": "markdown",
   "metadata": {},
   "source": [
    "## 8) For the next 24-ish hours in Miami, what percent of the time is the temperature above 85 degrees?\n",
    "\n",
    "- *Tip: You might want to read up on [looping patterns](http://jonathansoma.com/lede/foundations-2017/classes/data%20structures/looping-patterns/)*"
   ]
  },
  {
   "cell_type": "code",
   "execution_count": 126,
   "metadata": {
    "collapsed": true
   },
   "outputs": [
    {
     "name": "stdout",
     "output_type": "stream",
     "text": [
      "41.7%\n"
     ]
    }
   ],
   "source": [
    "count = 0 \n",
    "\n",
    "for time in miami_data['forecast']['forecastday'][0]['hour']:\n",
    "    if time['temp_f'] > 85:\n",
    "      count  = count + 1\n",
    " \n",
    " \n",
    "print(f\"{count/ len(miami_data['forecast']['forecastday'][0]['hour']):.1%}\")\n",
    "\n",
    "\n",
    "        "
   ]
  },
  {
   "cell_type": "code",
   "execution_count": null,
   "metadata": {
    "collapsed": true
   },
   "outputs": [],
   "source": []
  },
  {
   "cell_type": "code",
   "execution_count": null,
   "metadata": {
    "collapsed": true
   },
   "outputs": [],
   "source": []
  },
  {
   "cell_type": "markdown",
   "metadata": {},
   "source": [
    "## 9) How much will it cost if you need to use 1,500,000 API calls?\n",
    "\n",
    "You are only allowed 1,000,000 API calls each month. If you were really bad at this homework or made some awful loops, WeatherAPI might shut down your free access. \n",
    "\n",
    "* *Tip: this involves looking somewhere that isn't the normal documentation.*"
   ]
  },
  {
   "cell_type": "code",
   "execution_count": null,
   "metadata": {},
   "outputs": [],
   "source": [
    "#$4 dollars per month"
   ]
  },
  {
   "cell_type": "code",
   "execution_count": null,
   "metadata": {},
   "outputs": [],
   "source": []
  },
  {
   "cell_type": "markdown",
   "metadata": {},
   "source": [
    "## 10) You're too poor to spend more money! What else could you do instead of give them money?\n",
    "\n",
    "* *Tip: I'm not endorsing being sneaky, but newsrooms and students are both generally poverty-stricken.*"
   ]
  },
  {
   "cell_type": "code",
   "execution_count": null,
   "metadata": {},
   "outputs": [],
   "source": [
    "#Create another account"
   ]
  }
 ],
 "metadata": {
  "kernelspec": {
   "display_name": "Python 3 (ipykernel)",
   "language": "python",
   "name": "python3"
  },
  "language_info": {
   "codemirror_mode": {
    "name": "ipython",
    "version": 3
   },
   "file_extension": ".py",
   "mimetype": "text/x-python",
   "name": "python",
   "nbconvert_exporter": "python",
   "pygments_lexer": "ipython3",
   "version": "3.10.3"
  },
  "vscode": {
   "interpreter": {
    "hash": "47d48ee1f129c21541315ab4e2c1374ecf45fbbd642b9d7a202c052c5e65e0e7"
   }
  }
 },
 "nbformat": 4,
 "nbformat_minor": 1
}
